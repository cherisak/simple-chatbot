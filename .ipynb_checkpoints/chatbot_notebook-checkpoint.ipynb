{
 "cells": [
  {
   "cell_type": "markdown",
   "id": "9a015a00",
   "metadata": {},
   "source": [
    "# <center> Python Chatbot Project </center>"
   ]
  },
  {
   "cell_type": "markdown",
   "id": "a8329cc5",
   "metadata": {},
   "source": [
    "# What is a Chatbot ?"
   ]
  },
  {
   "cell_type": "markdown",
   "id": "9cf768f9",
   "metadata": {},
   "source": [
    "A chatbot, also called dialoguer or conversational agent, is an agent who dialogues with a user.\n",
    "Research on this person-machine interface is influenced by the competition on the Turing test (1950): giving the illusion that a program thinks through meaningful dialogue. A user is invited to formulate his request in natural language, it is refined by a friendly exchange, of which the software interprets an operational request for his information system . Chatbots therefore go beyond research or entertainment, they implement linguistic and psychological knowledge , and of course programming bases . [link](https://fr.wikipedia.org/wiki/Chatbot)\n",
    "\n",
    "A chatbot is an intelligent piece of software that is capable of communicating and performing actions similar to a human. Chatbots are used a lot in customer interaction, marketing on social network sites and instantly messaging the client. \n",
    "\n",
    "There are two basic types of chatbot models; *Retrieval based and Generative based models.*\n",
    "\n",
    "Deciding on the best technique for processing dialogue inputs and generating responses, is one of the first decisions you need to make. Most current systems use retrieval-based methods, while generative methods are still in research."
   ]
  },
  {
   "cell_type": "markdown",
   "id": "39d2ad4d",
   "metadata": {},
   "source": [
    "### Retrieval based chatbots"
   ]
  },
  {
   "cell_type": "markdown",
   "id": "514ca3bf",
   "metadata": {},
   "source": [
    "A retrieval-based chatbot uses predefined input patterns and responses. It then uses some type of heuristic approach to select the appropriate response. It is widely used in the industry to make goal-oriented chatbots where we can customize the tone and flow of the chatbot to drive our customers with the best experience."
   ]
  },
  {
   "cell_type": "markdown",
   "id": "21370351",
   "metadata": {},
   "source": [
    "### Generative based chatbots"
   ]
  },
  {
   "cell_type": "markdown",
   "id": "c41d518e",
   "metadata": {},
   "source": [
    "Generative models are not based on some predefined responses.\n",
    "\n",
    "They are based on seq 2 seq neural networks. It is the same idea as machine translation. In machine translation, we translate the source code from one language to another language but here, we are going to transform input into an output. It needs a large amount of data and it is based on Deep Neural networks."
   ]
  },
  {
   "cell_type": "markdown",
   "id": "0d9cfb86",
   "metadata": {},
   "source": [
    "# Training Data"
   ]
  },
  {
   "cell_type": "markdown",
   "id": "698fac2d",
   "metadata": {},
   "source": [
    "Now it's time to understand what kind of data we will need to provide our chatbot with. Since this is a simple chatbot we don't need to download any massive datasets. We will just use data that we write ourselves. I'va called my file \"intents.json\"."
   ]
  },
  {
   "cell_type": "markdown",
   "id": "30edeace",
   "metadata": {},
   "source": [
    "# Installing Packages"
   ]
  },
  {
   "cell_type": "markdown",
   "id": "41c4a729",
   "metadata": {},
   "source": [
    "Before starting to work on our chatbot we need to download a few python packages.\n",
    "We will simply use pip to install the following:\n",
    "- numpy\n",
    "- nltk\n",
    "- tensorflow\n",
    "- tflearn"
   ]
  },
  {
   "cell_type": "markdown",
   "id": "02ce5b60",
   "metadata": {},
   "source": [
    "# Importing modules"
   ]
  },
  {
   "cell_type": "code",
   "execution_count": 17,
   "id": "d2d72288",
   "metadata": {},
   "outputs": [],
   "source": [
    "import json\n",
    "import string\n",
    "import random\n",
    "\n",
    "import nltk\n",
    "import numpy as np\n",
    "import tensorflow as tf\n",
    "from nltk.stem import WordNetLemmatizer\n",
    "from tensorflow.keras import Sequential\n",
    "from tensorflow.keras.layers import Dense, Dropout\n",
    "#nltk.download(\"punkt\") #uncomment to download\n",
    "#nltk.download(\"wordnet\") #uncomment to download"
   ]
  },
  {
   "cell_type": "markdown",
   "id": "a84ce2c9",
   "metadata": {},
   "source": [
    "# Data Preprocessing"
   ]
  },
  {
   "cell_type": "markdown",
   "id": "7abc0c45",
   "metadata": {},
   "source": [
    "### Reading the JSON file"
   ]
  },
  {
   "cell_type": "code",
   "execution_count": 2,
   "id": "46c5c548",
   "metadata": {},
   "outputs": [],
   "source": [
    "data_file = open('./data/intents.json').read()\n",
    "data = json.loads(data_file)"
   ]
  },
  {
   "cell_type": "code",
   "execution_count": 3,
   "id": "f4acc426",
   "metadata": {
    "scrolled": true
   },
   "outputs": [
    {
     "name": "stdout",
     "output_type": "stream",
     "text": [
      "{\n",
      "  \"intents\": [\n",
      "    {\n",
      "      \"tag\": \"greeting\",\n",
      "      \"patterns\": [\n",
      "        \"Hi\",\n",
      "        \"How are you\",\n",
      "        \"Is anyone there?\",\n",
      "        \"Hello\",\n",
      "        \"Good day\"\n",
      "      ],\n",
      "      \"responses\": [\n",
      "        \"Hello, thanks for visiting\",\n",
      "        \"Good to see you again\",\n",
      "        \"Hi there, how can I help?\"\n",
      "      ],\n",
      "      \"context_set\": \"\"\n",
      "    },\n",
      "    {\n",
      "      \"tag\": \"goodbye\",\n",
      "      \"patterns\": [\n",
      "        \"Bye\",\n",
      "        \"See you later\",\n",
      "        \"Goodbye\"\n",
      "      ],\n",
      "      \"responses\": [\n",
      "        \"See you later, thanks for visiting\",\n",
      "        \"Have a nice day\",\n",
      "        \"Bye! Come back again soon.\"\n",
      "      ]\n",
      "    },\n",
      "    {\n",
      "      \"tag\": \"thanks\",\n",
      "      \"patterns\": [\n",
      "        \"Thanks\",\n",
      "        \"Thank you\",\n",
      "        \"That's helpful\"\n",
      "      ],\n",
      "      \"responses\": [\n",
      "        \"Happy to help!\",\n",
      "        \"Any time!\",\n",
      "        \"My pleasure\"\n",
      "      ]\n",
      "    },\n",
      "    {\n",
      "      \"tag\": \"hours\",\n",
      "      \"patterns\": [\n",
      "        \"What hours are you open?\",\n",
      "        \"What are your hours?\",\n",
      "        \"When are you open?\"\n",
      "      ],\n",
      "      \"responses\": [\n",
      "        \"We're open every day 9am-9pm\",\n",
      "        \"Our hours are 9am-9pm every day\"\n",
      "      ]\n",
      "    },\n",
      "    {\n",
      "      \"tag\": \"payments\",\n",
      "      \"patterns\": [\n",
      "        \"Do you take credit cards?\",\n",
      "        \"Do you accept Mastercard?\",\n",
      "        \"Are you cash only?\"\n",
      "      ],\n",
      "      \"responses\": [\n",
      "        \"We accept VISA, Mastercard and AMEX\",\n",
      "        \"We accept most major credit cards\"\n",
      "      ]\n",
      "    },\n",
      "    {\n",
      "      \"tag\": \"opentoday\",\n",
      "      \"patterns\": [\n",
      "        \"Are you open today?\",\n",
      "        \"When do you open today?\",\n",
      "        \"What are your hours today?\"\n",
      "      ],\n",
      "      \"responses\": [\n",
      "        \"We're open every day from 9am-9pm\",\n",
      "        \"Our hours are 9am-9pm every day\"\n",
      "      ]\n",
      "    }\n",
      "  ]\n",
      "}\n"
     ]
    }
   ],
   "source": [
    "print(json.dumps(data, indent=2))"
   ]
  },
  {
   "cell_type": "markdown",
   "id": "566fed5a",
   "metadata": {},
   "source": [
    "So, as you can see, the dataset has an object called intents. The dataset has about 6 instances of intents, each having its own tag, context, patterns, and responses. If you thoroughly go through your dataset, you’ll understand that patterns are similar to the interactive statements that we expect from our users whereas responses are the replies to those statements. And, a tag is a one-word summary of the user’s query.\n",
    "\n",
    "Now, the task at hand is to make our machine learn the pattern between patterns and tags so that when the user enters a statement, it can identify the appropriate tag and give one of the responses as output. And, the following steps will guide you on how to complete this task."
   ]
  },
  {
   "cell_type": "markdown",
   "id": "afb01fac",
   "metadata": {},
   "source": [
    "### Identifying Feature and Target for the NLP Model"
   ]
  },
  {
   "cell_type": "markdown",
   "id": "c10e10e5",
   "metadata": {},
   "source": [
    "Now, we will extract words from patterns and the corresponding tag to them. We will use [nltk.word_tokenize](https://www.nltk.org/api/nltk.tokenize.html?highlight=word_tokenize#module-nltk.tokenize) to tokenize the words.   \n",
    "The words have been stored in data_X and the corresponding tag to it has been stored in data_Y. \n",
    "\n",
    "For the list words, the punctuations have not been added by using a simple conditional statement and the words have been converted into their root words using NLTK's WordNetLemmatizer(). This is an important step when writing a chatbot in Python as it will save us a lot of time when we will feed these words to our deep learning model.   \n",
    "Then, we will sort and remove duplicates from the classes and words lists."
   ]
  },
  {
   "cell_type": "code",
   "execution_count": 6,
   "id": "a7995c6e",
   "metadata": {},
   "outputs": [],
   "source": [
    "words = [] #for Bow model/ vocabulary for patterns\n",
    "classes = [] #contains all tags\n",
    "data_X = []\n",
    "data_y = []\n",
    "\n",
    "for intent in data[\"intents\"]:\n",
    "    for pattern in intent[\"patterns\"]:\n",
    "        tokens = nltk.word_tokenize(pattern) #tokenize each pattern\n",
    "        words.extend(tokens) \n",
    "        data_X.append(pattern)\n",
    "        data_y.append(intent[\"tag\"])\n",
    "    \n",
    "    #adding tag to classes\n",
    "    if intent[\"tag\"] not in classes:\n",
    "        classes.append(intent[\"tag\"])\n",
    "\n",
    "lemmatizer = WordNetLemmatizer()\n",
    "\n",
    "words =[lemmatizer.lemmatize(word.lower()) for word in words if word not in string.punctuation]\n",
    "\n",
    "words = sorted(set(words))\n",
    "classes = sorted(set(classes))"
   ]
  },
  {
   "cell_type": "markdown",
   "id": "3749e7b4",
   "metadata": {},
   "source": [
    "Now, we will check our lists content"
   ]
  },
  {
   "cell_type": "code",
   "execution_count": 8,
   "id": "f60aa544",
   "metadata": {
    "scrolled": true
   },
   "outputs": [
    {
     "name": "stdout",
     "output_type": "stream",
     "text": [
      "[\"'s\", 'accept', 'anyone', 'are', 'bye', 'card', 'cash', 'credit', 'day', 'do', 'good', 'goodbye', 'hello', 'helpful', 'hi', 'hour', 'how', 'is', 'later', 'mastercard', 'only', 'open', 'see', 'take', 'thank', 'thanks', 'that', 'there', 'today', 'what', 'when', 'you', 'your']\n",
      "['goodbye', 'greeting', 'hours', 'opentoday', 'payments', 'thanks']\n",
      "['Hi', 'How are you', 'Is anyone there?', 'Hello', 'Good day', 'Bye', 'See you later', 'Goodbye', 'Thanks', 'Thank you', \"That's helpful\", 'What hours are you open?', 'What are your hours?', 'When are you open?', 'Do you take credit cards?', 'Do you accept Mastercard?', 'Are you cash only?', 'Are you open today?', 'When do you open today?', 'What are your hours today?']\n",
      "['greeting', 'greeting', 'greeting', 'greeting', 'greeting', 'goodbye', 'goodbye', 'goodbye', 'thanks', 'thanks', 'thanks', 'hours', 'hours', 'hours', 'payments', 'payments', 'payments', 'opentoday', 'opentoday', 'opentoday']\n"
     ]
    }
   ],
   "source": [
    "print(words)\n",
    "print(classes)\n",
    "print(data_X)\n",
    "print(data_y)"
   ]
  },
  {
   "cell_type": "markdown",
   "id": "1523a9a9",
   "metadata": {},
   "source": [
    "### Making the data Machine-friendly (bag-of-word model)"
   ]
  },
  {
   "cell_type": "markdown",
   "id": "ffe01175",
   "metadata": {},
   "source": [
    "1. Clean_text(text): This function receives text (string) as an input and then tokenizes it using the nltk.word_tokenize(). Each token is then converted into its root form using a lemmatizer. The output is basically a list of words in their root form.\n",
    "\n",
    "2. Bag_of_words(text, vocab): This function calls the above function, converts the text into an array using the bag-of-words model using the input vocabulary, and then returns the same array. \n",
    "\n",
    "3. Pred_class(text, vocab, labels): This function takes text, vocab, and labels as input and returns a list that contains a tag corresponding to the highest probability.\n",
    "\n",
    "4. Get_response(intents_list, intents_json): This function takes in the tag returned by the previous function and uses it to randomly choose a response corresponding to the same tag in intent.json. And, if the intents_list is empty, that is when the probability does not cross the threshold, we will pass the string “Sorry! I don’t understand” as ChatBot’s response."
   ]
  },
  {
   "cell_type": "code",
   "execution_count": 14,
   "id": "b9e1c273",
   "metadata": {},
   "outputs": [],
   "source": [
    "training = []\n",
    "out_empty = [0] * len(classes)\n",
    "\n",
    "#creating bag of words model\n",
    "for idx, doc in enumerate(data_X):\n",
    "    bow = []\n",
    "    text = lemmatizer.lemmatize(doc.lower())\n",
    "    for word in words:\n",
    "        bow.append(1) if word in text else bow.append(0) \n",
    "    \n",
    "    #mark the index of class that the current pattern is associated to\n",
    "    output_row = list(out_empty)\n",
    "    output_row[classes.index(data_y[idx])] = 1\n",
    "    #add the one hot encoded BoW and associated classes to training\n",
    "    training.append([bow, output_row])\n",
    "    \n",
    "#shuffle the data and convert it to an array\n",
    "random.shuffle(training)\n",
    "training = np.array(training, dtype= object)\n",
    "#split the features and target labels\n",
    "train_X = np.array(list(training[:,0]))\n",
    "train_Y = np.array(list(training[:,1]))"
   ]
  },
  {
   "cell_type": "markdown",
   "id": "f349291d",
   "metadata": {},
   "source": [
    "### Building the Neural Network Model"
   ]
  },
  {
   "cell_type": "markdown",
   "id": "e7c6a7af",
   "metadata": {},
   "source": [
    "Next, we will create a neural network using Keras’ Sequential model. The input to this network will be the array train_X created in the previous step. These would then traverse through the model of 3 different layers with the first having 128 neurons, the second having 64 neurons, and the last layer having the same number of neurons as the length of one element of train_Y (Obvious, right?). Next, to reach the correct weights, we have chosen the Adam optimizer and defined our error function using the categorical cross-entropy function. And, the metric we have chosen is accuracy. There are of course a lot of other metrics that you might be interested in and you can explore about them here: keras.io/api/metrics/. We’ll train the python chatbot model about 150 times so that it reaches the desired accuracy."
   ]
  },
  {
   "cell_type": "code",
   "execution_count": 19,
   "id": "973ca7ae",
   "metadata": {},
   "outputs": [],
   "source": [
    "model = Sequential()\n",
    "model.add(Dense(128, input_shape=(len(train_X[0]),), activation = \"relu\"))\n",
    "model.add(Dropout(0.5))\n",
    "model.add(Dense(64, activation = \"relu\"))\n",
    "model.add(Dropout(0.5))\n",
    "model.add(Dense(len(train_Y[0]), activation = \"softmax\"))\n",
    "adam = tf.keras.optimizers.Adam(learning_rate = 0.01, decay = 1e-6)\n",
    "model.compile(loss = 'categorical_crossentropy',\n",
    "             optimizer = adam,\n",
    "             metrics = [\"accuracy\"])"
   ]
  },
  {
   "cell_type": "code",
   "execution_count": 20,
   "id": "fa1b8b98",
   "metadata": {},
   "outputs": [
    {
     "name": "stdout",
     "output_type": "stream",
     "text": [
      "Model: \"sequential_2\"\n",
      "_________________________________________________________________\n",
      " Layer (type)                Output Shape              Param #   \n",
      "=================================================================\n",
      " dense_2 (Dense)             (None, 128)               4352      \n",
      "                                                                 \n",
      " dropout_2 (Dropout)         (None, 128)               0         \n",
      "                                                                 \n",
      " dense_3 (Dense)             (None, 64)                8256      \n",
      "                                                                 \n",
      " dropout_3 (Dropout)         (None, 64)                0         \n",
      "                                                                 \n",
      " dense_4 (Dense)             (None, 6)                 390       \n",
      "                                                                 \n",
      "=================================================================\n",
      "Total params: 12,998\n",
      "Trainable params: 12,998\n",
      "Non-trainable params: 0\n",
      "_________________________________________________________________\n"
     ]
    }
   ],
   "source": [
    "model.summary()"
   ]
  },
  {
   "cell_type": "code",
   "execution_count": 21,
   "id": "0ef10a4d",
   "metadata": {
    "scrolled": true
   },
   "outputs": [
    {
     "name": "stdout",
     "output_type": "stream",
     "text": [
      "Epoch 1/150\n",
      "1/1 [==============================] - 1s 550ms/step - loss: 1.8573 - accuracy: 0.1500\n",
      "Epoch 2/150\n",
      "1/1 [==============================] - 0s 7ms/step - loss: 1.8761 - accuracy: 0.1000\n",
      "Epoch 3/150\n",
      "1/1 [==============================] - 0s 6ms/step - loss: 1.5722 - accuracy: 0.4500\n",
      "Epoch 4/150\n",
      "1/1 [==============================] - 0s 6ms/step - loss: 1.6023 - accuracy: 0.2500\n",
      "Epoch 5/150\n",
      "1/1 [==============================] - 0s 6ms/step - loss: 1.4830 - accuracy: 0.6500\n",
      "Epoch 6/150\n",
      "1/1 [==============================] - 0s 5ms/step - loss: 1.2943 - accuracy: 0.5000\n",
      "Epoch 7/150\n",
      "1/1 [==============================] - 0s 3ms/step - loss: 1.2646 - accuracy: 0.6500\n",
      "Epoch 8/150\n",
      "1/1 [==============================] - 0s 2ms/step - loss: 1.0641 - accuracy: 0.8000\n",
      "Epoch 9/150\n",
      "1/1 [==============================] - 0s 3ms/step - loss: 1.0065 - accuracy: 0.7000\n",
      "Epoch 10/150\n",
      "1/1 [==============================] - 0s 5ms/step - loss: 0.9520 - accuracy: 0.8000\n",
      "Epoch 11/150\n",
      "1/1 [==============================] - 0s 2ms/step - loss: 0.8820 - accuracy: 0.7000\n",
      "Epoch 12/150\n",
      "1/1 [==============================] - 0s 3ms/step - loss: 0.7737 - accuracy: 0.8500\n",
      "Epoch 13/150\n",
      "1/1 [==============================] - 0s 4ms/step - loss: 0.7194 - accuracy: 0.7500\n",
      "Epoch 14/150\n",
      "1/1 [==============================] - 0s 2ms/step - loss: 0.5969 - accuracy: 0.8500\n",
      "Epoch 15/150\n",
      "1/1 [==============================] - 0s 3ms/step - loss: 0.4900 - accuracy: 0.9000\n",
      "Epoch 16/150\n",
      "1/1 [==============================] - 0s 4ms/step - loss: 0.4962 - accuracy: 1.0000\n",
      "Epoch 17/150\n",
      "1/1 [==============================] - 0s 2ms/step - loss: 0.3444 - accuracy: 0.9500\n",
      "Epoch 18/150\n",
      "1/1 [==============================] - 0s 2ms/step - loss: 0.2701 - accuracy: 1.0000\n",
      "Epoch 19/150\n",
      "1/1 [==============================] - 0s 4ms/step - loss: 0.3964 - accuracy: 0.8500\n",
      "Epoch 20/150\n",
      "1/1 [==============================] - 0s 3ms/step - loss: 0.3747 - accuracy: 0.8000\n",
      "Epoch 21/150\n",
      "1/1 [==============================] - 0s 4ms/step - loss: 0.2422 - accuracy: 0.9500\n",
      "Epoch 22/150\n",
      "1/1 [==============================] - 0s 5ms/step - loss: 0.2449 - accuracy: 0.9500\n",
      "Epoch 23/150\n",
      "1/1 [==============================] - 0s 3ms/step - loss: 0.1161 - accuracy: 1.0000\n",
      "Epoch 24/150\n",
      "1/1 [==============================] - 0s 2ms/step - loss: 0.0582 - accuracy: 1.0000\n",
      "Epoch 25/150\n",
      "1/1 [==============================] - 0s 3ms/step - loss: 0.1216 - accuracy: 1.0000\n",
      "Epoch 26/150\n",
      "1/1 [==============================] - 0s 4ms/step - loss: 0.1544 - accuracy: 0.9500\n",
      "Epoch 27/150\n",
      "1/1 [==============================] - 0s 3ms/step - loss: 0.1514 - accuracy: 0.9500\n",
      "Epoch 28/150\n",
      "1/1 [==============================] - 0s 4ms/step - loss: 0.0363 - accuracy: 1.0000\n",
      "Epoch 29/150\n",
      "1/1 [==============================] - 0s 4ms/step - loss: 0.0542 - accuracy: 1.0000\n",
      "Epoch 30/150\n",
      "1/1 [==============================] - 0s 3ms/step - loss: 0.0476 - accuracy: 1.0000\n",
      "Epoch 31/150\n",
      "1/1 [==============================] - 0s 4ms/step - loss: 0.0359 - accuracy: 1.0000\n",
      "Epoch 32/150\n",
      "1/1 [==============================] - 0s 4ms/step - loss: 0.0492 - accuracy: 1.0000\n",
      "Epoch 33/150\n",
      "1/1 [==============================] - 0s 3ms/step - loss: 0.0200 - accuracy: 1.0000\n",
      "Epoch 34/150\n",
      "1/1 [==============================] - 0s 4ms/step - loss: 0.1659 - accuracy: 0.9500\n",
      "Epoch 35/150\n",
      "1/1 [==============================] - 0s 3ms/step - loss: 0.0999 - accuracy: 0.9500\n",
      "Epoch 36/150\n",
      "1/1 [==============================] - 0s 2ms/step - loss: 0.0482 - accuracy: 1.0000\n",
      "Epoch 37/150\n",
      "1/1 [==============================] - 0s 5ms/step - loss: 0.0356 - accuracy: 1.0000\n",
      "Epoch 38/150\n",
      "1/1 [==============================] - 0s 2ms/step - loss: 0.0140 - accuracy: 1.0000\n",
      "Epoch 39/150\n",
      "1/1 [==============================] - 0s 3ms/step - loss: 0.0397 - accuracy: 1.0000\n",
      "Epoch 40/150\n",
      "1/1 [==============================] - 0s 4ms/step - loss: 0.0780 - accuracy: 0.9500\n",
      "Epoch 41/150\n",
      "1/1 [==============================] - 0s 3ms/step - loss: 0.1501 - accuracy: 0.9500\n",
      "Epoch 42/150\n",
      "1/1 [==============================] - 0s 4ms/step - loss: 0.0459 - accuracy: 1.0000\n",
      "Epoch 43/150\n",
      "1/1 [==============================] - 0s 3ms/step - loss: 0.0073 - accuracy: 1.0000\n",
      "Epoch 44/150\n",
      "1/1 [==============================] - 0s 4ms/step - loss: 0.0130 - accuracy: 1.0000\n",
      "Epoch 45/150\n",
      "1/1 [==============================] - 0s 3ms/step - loss: 0.0979 - accuracy: 0.9500\n",
      "Epoch 46/150\n",
      "1/1 [==============================] - 0s 3ms/step - loss: 0.0222 - accuracy: 1.0000\n",
      "Epoch 47/150\n",
      "1/1 [==============================] - 0s 4ms/step - loss: 0.0342 - accuracy: 1.0000\n",
      "Epoch 48/150\n",
      "1/1 [==============================] - 0s 4ms/step - loss: 0.2646 - accuracy: 0.9500\n",
      "Epoch 49/150\n",
      "1/1 [==============================] - 0s 4ms/step - loss: 0.0248 - accuracy: 1.0000\n",
      "Epoch 50/150\n",
      "1/1 [==============================] - 0s 4ms/step - loss: 0.0132 - accuracy: 1.0000\n",
      "Epoch 51/150\n",
      "1/1 [==============================] - 0s 3ms/step - loss: 0.0087 - accuracy: 1.0000\n",
      "Epoch 52/150\n",
      "1/1 [==============================] - 0s 3ms/step - loss: 0.0252 - accuracy: 1.0000\n",
      "Epoch 53/150\n",
      "1/1 [==============================] - 0s 3ms/step - loss: 0.0029 - accuracy: 1.0000\n",
      "Epoch 54/150\n",
      "1/1 [==============================] - 0s 3ms/step - loss: 0.0048 - accuracy: 1.0000\n",
      "Epoch 55/150\n",
      "1/1 [==============================] - 0s 3ms/step - loss: 0.0045 - accuracy: 1.0000\n",
      "Epoch 56/150\n",
      "1/1 [==============================] - 0s 3ms/step - loss: 0.0062 - accuracy: 1.0000\n",
      "Epoch 57/150\n",
      "1/1 [==============================] - 0s 4ms/step - loss: 5.3686e-04 - accuracy: 1.0000\n",
      "Epoch 58/150\n",
      "1/1 [==============================] - 0s 3ms/step - loss: 0.0456 - accuracy: 1.0000\n",
      "Epoch 59/150\n",
      "1/1 [==============================] - 0s 4ms/step - loss: 0.0027 - accuracy: 1.0000\n",
      "Epoch 60/150\n",
      "1/1 [==============================] - 0s 2ms/step - loss: 0.0032 - accuracy: 1.0000\n",
      "Epoch 61/150\n",
      "1/1 [==============================] - 0s 2ms/step - loss: 0.0110 - accuracy: 1.0000\n",
      "Epoch 62/150\n",
      "1/1 [==============================] - 0s 3ms/step - loss: 0.2498 - accuracy: 0.9500\n",
      "Epoch 63/150\n",
      "1/1 [==============================] - 0s 2ms/step - loss: 0.0171 - accuracy: 1.0000\n",
      "Epoch 64/150\n",
      "1/1 [==============================] - 0s 2ms/step - loss: 0.0034 - accuracy: 1.0000\n",
      "Epoch 65/150\n",
      "1/1 [==============================] - 0s 3ms/step - loss: 0.0019 - accuracy: 1.0000\n",
      "Epoch 66/150\n",
      "1/1 [==============================] - 0s 3ms/step - loss: 0.0039 - accuracy: 1.0000\n",
      "Epoch 67/150\n",
      "1/1 [==============================] - 0s 3ms/step - loss: 0.0572 - accuracy: 0.9500\n",
      "Epoch 68/150\n",
      "1/1 [==============================] - 0s 3ms/step - loss: 0.0375 - accuracy: 1.0000\n",
      "Epoch 69/150\n",
      "1/1 [==============================] - 0s 3ms/step - loss: 0.0272 - accuracy: 1.0000\n",
      "Epoch 70/150\n",
      "1/1 [==============================] - 0s 3ms/step - loss: 0.0090 - accuracy: 1.0000\n",
      "Epoch 71/150\n",
      "1/1 [==============================] - 0s 4ms/step - loss: 0.0023 - accuracy: 1.0000\n",
      "Epoch 72/150\n",
      "1/1 [==============================] - 0s 3ms/step - loss: 4.3642e-04 - accuracy: 1.0000\n",
      "Epoch 73/150\n",
      "1/1 [==============================] - 0s 3ms/step - loss: 0.0667 - accuracy: 0.9500\n",
      "Epoch 74/150\n",
      "1/1 [==============================] - 0s 3ms/step - loss: 0.0422 - accuracy: 1.0000\n",
      "Epoch 75/150\n",
      "1/1 [==============================] - 0s 3ms/step - loss: 0.0029 - accuracy: 1.0000\n",
      "Epoch 76/150\n",
      "1/1 [==============================] - 0s 5ms/step - loss: 0.0051 - accuracy: 1.0000\n",
      "Epoch 77/150\n",
      "1/1 [==============================] - 0s 3ms/step - loss: 0.0118 - accuracy: 1.0000\n",
      "Epoch 78/150\n",
      "1/1 [==============================] - 0s 3ms/step - loss: 0.0019 - accuracy: 1.0000\n",
      "Epoch 79/150\n",
      "1/1 [==============================] - 0s 2ms/step - loss: 0.0257 - accuracy: 1.0000\n",
      "Epoch 80/150\n",
      "1/1 [==============================] - 0s 3ms/step - loss: 0.0113 - accuracy: 1.0000\n",
      "Epoch 81/150\n",
      "1/1 [==============================] - 0s 3ms/step - loss: 6.3916e-04 - accuracy: 1.0000\n",
      "Epoch 82/150\n",
      "1/1 [==============================] - 0s 3ms/step - loss: 6.3456e-04 - accuracy: 1.0000\n",
      "Epoch 83/150\n",
      "1/1 [==============================] - 0s 3ms/step - loss: 0.0069 - accuracy: 1.0000\n",
      "Epoch 84/150\n"
     ]
    },
    {
     "name": "stdout",
     "output_type": "stream",
     "text": [
      "1/1 [==============================] - 0s 3ms/step - loss: 6.1112e-04 - accuracy: 1.0000\n",
      "Epoch 85/150\n",
      "1/1 [==============================] - 0s 3ms/step - loss: 0.0099 - accuracy: 1.0000\n",
      "Epoch 86/150\n",
      "1/1 [==============================] - 0s 2ms/step - loss: 0.0034 - accuracy: 1.0000\n",
      "Epoch 87/150\n",
      "1/1 [==============================] - 0s 3ms/step - loss: 0.0022 - accuracy: 1.0000\n",
      "Epoch 88/150\n",
      "1/1 [==============================] - 0s 3ms/step - loss: 0.0038 - accuracy: 1.0000\n",
      "Epoch 89/150\n",
      "1/1 [==============================] - 0s 3ms/step - loss: 6.8968e-04 - accuracy: 1.0000\n",
      "Epoch 90/150\n",
      "1/1 [==============================] - 0s 3ms/step - loss: 0.2035 - accuracy: 0.9500\n",
      "Epoch 91/150\n",
      "1/1 [==============================] - 0s 3ms/step - loss: 0.0306 - accuracy: 1.0000\n",
      "Epoch 92/150\n",
      "1/1 [==============================] - 0s 2ms/step - loss: 0.0148 - accuracy: 1.0000\n",
      "Epoch 93/150\n",
      "1/1 [==============================] - 0s 3ms/step - loss: 0.0024 - accuracy: 1.0000\n",
      "Epoch 94/150\n",
      "1/1 [==============================] - 0s 3ms/step - loss: 0.0294 - accuracy: 1.0000\n",
      "Epoch 95/150\n",
      "1/1 [==============================] - 0s 4ms/step - loss: 7.2313e-04 - accuracy: 1.0000\n",
      "Epoch 96/150\n",
      "1/1 [==============================] - 0s 3ms/step - loss: 0.0346 - accuracy: 1.0000\n",
      "Epoch 97/150\n",
      "1/1 [==============================] - 0s 3ms/step - loss: 0.0059 - accuracy: 1.0000\n",
      "Epoch 98/150\n",
      "1/1 [==============================] - 0s 3ms/step - loss: 0.0088 - accuracy: 1.0000\n",
      "Epoch 99/150\n",
      "1/1 [==============================] - 0s 3ms/step - loss: 0.1258 - accuracy: 0.9500\n",
      "Epoch 100/150\n",
      "1/1 [==============================] - 0s 2ms/step - loss: 0.0103 - accuracy: 1.0000\n",
      "Epoch 101/150\n",
      "1/1 [==============================] - 0s 3ms/step - loss: 0.0028 - accuracy: 1.0000\n",
      "Epoch 102/150\n",
      "1/1 [==============================] - 0s 4ms/step - loss: 0.0026 - accuracy: 1.0000\n",
      "Epoch 103/150\n",
      "1/1 [==============================] - 0s 3ms/step - loss: 0.0062 - accuracy: 1.0000\n",
      "Epoch 104/150\n",
      "1/1 [==============================] - 0s 2ms/step - loss: 0.0020 - accuracy: 1.0000\n",
      "Epoch 105/150\n",
      "1/1 [==============================] - 0s 2ms/step - loss: 0.0043 - accuracy: 1.0000\n",
      "Epoch 106/150\n",
      "1/1 [==============================] - 0s 3ms/step - loss: 9.1350e-04 - accuracy: 1.0000\n",
      "Epoch 107/150\n",
      "1/1 [==============================] - 0s 2ms/step - loss: 0.0046 - accuracy: 1.0000\n",
      "Epoch 108/150\n",
      "1/1 [==============================] - 0s 3ms/step - loss: 0.0239 - accuracy: 1.0000\n",
      "Epoch 109/150\n",
      "1/1 [==============================] - 0s 3ms/step - loss: 0.0036 - accuracy: 1.0000\n",
      "Epoch 110/150\n",
      "1/1 [==============================] - 0s 3ms/step - loss: 0.0018 - accuracy: 1.0000\n",
      "Epoch 111/150\n",
      "1/1 [==============================] - 0s 2ms/step - loss: 0.0158 - accuracy: 1.0000\n",
      "Epoch 112/150\n",
      "1/1 [==============================] - 0s 2ms/step - loss: 0.0080 - accuracy: 1.0000\n",
      "Epoch 113/150\n",
      "1/1 [==============================] - 0s 3ms/step - loss: 0.0015 - accuracy: 1.0000\n",
      "Epoch 114/150\n",
      "1/1 [==============================] - 0s 2ms/step - loss: 0.0072 - accuracy: 1.0000\n",
      "Epoch 115/150\n",
      "1/1 [==============================] - 0s 2ms/step - loss: 0.0055 - accuracy: 1.0000\n",
      "Epoch 116/150\n",
      "1/1 [==============================] - 0s 2ms/step - loss: 0.0068 - accuracy: 1.0000\n",
      "Epoch 117/150\n",
      "1/1 [==============================] - 0s 3ms/step - loss: 0.0031 - accuracy: 1.0000\n",
      "Epoch 118/150\n",
      "1/1 [==============================] - 0s 2ms/step - loss: 8.6221e-04 - accuracy: 1.0000\n",
      "Epoch 119/150\n",
      "1/1 [==============================] - 0s 2ms/step - loss: 0.0068 - accuracy: 1.0000\n",
      "Epoch 120/150\n",
      "1/1 [==============================] - 0s 3ms/step - loss: 5.0534e-04 - accuracy: 1.0000\n",
      "Epoch 121/150\n",
      "1/1 [==============================] - 0s 3ms/step - loss: 5.9409e-04 - accuracy: 1.0000\n",
      "Epoch 122/150\n",
      "1/1 [==============================] - 0s 2ms/step - loss: 0.0030 - accuracy: 1.0000\n",
      "Epoch 123/150\n",
      "1/1 [==============================] - 0s 3ms/step - loss: 0.0017 - accuracy: 1.0000\n",
      "Epoch 124/150\n",
      "1/1 [==============================] - 0s 3ms/step - loss: 0.0079 - accuracy: 1.0000\n",
      "Epoch 125/150\n",
      "1/1 [==============================] - 0s 3ms/step - loss: 1.4883e-04 - accuracy: 1.0000\n",
      "Epoch 126/150\n",
      "1/1 [==============================] - 0s 3ms/step - loss: 0.0065 - accuracy: 1.0000\n",
      "Epoch 127/150\n",
      "1/1 [==============================] - 0s 2ms/step - loss: 0.0593 - accuracy: 1.0000\n",
      "Epoch 128/150\n",
      "1/1 [==============================] - 0s 3ms/step - loss: 0.0238 - accuracy: 1.0000\n",
      "Epoch 129/150\n",
      "1/1 [==============================] - 0s 2ms/step - loss: 8.5989e-05 - accuracy: 1.0000\n",
      "Epoch 130/150\n",
      "1/1 [==============================] - 0s 3ms/step - loss: 0.0019 - accuracy: 1.0000\n",
      "Epoch 131/150\n",
      "1/1 [==============================] - 0s 2ms/step - loss: 0.0200 - accuracy: 1.0000\n",
      "Epoch 132/150\n",
      "1/1 [==============================] - 0s 2ms/step - loss: 0.1502 - accuracy: 0.9500\n",
      "Epoch 133/150\n",
      "1/1 [==============================] - 0s 2ms/step - loss: 0.0110 - accuracy: 1.0000\n",
      "Epoch 134/150\n",
      "1/1 [==============================] - 0s 2ms/step - loss: 0.0103 - accuracy: 1.0000\n",
      "Epoch 135/150\n",
      "1/1 [==============================] - 0s 3ms/step - loss: 0.0025 - accuracy: 1.0000\n",
      "Epoch 136/150\n",
      "1/1 [==============================] - 0s 3ms/step - loss: 0.0031 - accuracy: 1.0000\n",
      "Epoch 137/150\n",
      "1/1 [==============================] - 0s 2ms/step - loss: 0.0113 - accuracy: 1.0000\n",
      "Epoch 138/150\n",
      "1/1 [==============================] - 0s 3ms/step - loss: 0.0022 - accuracy: 1.0000\n",
      "Epoch 139/150\n",
      "1/1 [==============================] - 0s 3ms/step - loss: 0.0067 - accuracy: 1.0000\n",
      "Epoch 140/150\n",
      "1/1 [==============================] - 0s 2ms/step - loss: 0.0019 - accuracy: 1.0000\n",
      "Epoch 141/150\n",
      "1/1 [==============================] - 0s 2ms/step - loss: 0.0197 - accuracy: 1.0000\n",
      "Epoch 142/150\n",
      "1/1 [==============================] - 0s 2ms/step - loss: 0.0073 - accuracy: 1.0000\n",
      "Epoch 143/150\n",
      "1/1 [==============================] - 0s 3ms/step - loss: 0.0052 - accuracy: 1.0000\n",
      "Epoch 144/150\n",
      "1/1 [==============================] - 0s 2ms/step - loss: 6.2886e-04 - accuracy: 1.0000\n",
      "Epoch 145/150\n",
      "1/1 [==============================] - 0s 3ms/step - loss: 0.0049 - accuracy: 1.0000\n",
      "Epoch 146/150\n",
      "1/1 [==============================] - 0s 3ms/step - loss: 0.0039 - accuracy: 1.0000\n",
      "Epoch 147/150\n",
      "1/1 [==============================] - 0s 3ms/step - loss: 0.0016 - accuracy: 1.0000\n",
      "Epoch 148/150\n",
      "1/1 [==============================] - 0s 2ms/step - loss: 7.4097e-04 - accuracy: 1.0000\n",
      "Epoch 149/150\n",
      "1/1 [==============================] - 0s 2ms/step - loss: 0.0013 - accuracy: 1.0000\n",
      "Epoch 150/150\n",
      "1/1 [==============================] - 0s 3ms/step - loss: 8.5443e-04 - accuracy: 1.0000\n"
     ]
    },
    {
     "data": {
      "text/plain": [
       "<keras.callbacks.History at 0x1f136a2a460>"
      ]
     },
     "execution_count": 21,
     "metadata": {},
     "output_type": "execute_result"
    }
   ],
   "source": [
    "model.fit(x = train_X, y = train_Y, epochs = 150, verbose = 1)"
   ]
  },
  {
   "cell_type": "markdown",
   "id": "5de29937",
   "metadata": {},
   "source": [
    "Now, we will save our model."
   ]
  },
  {
   "cell_type": "code",
   "execution_count": 22,
   "id": "7de756b0",
   "metadata": {},
   "outputs": [],
   "source": [
    "model.save('./models/simple_chatbot.h5')"
   ]
  },
  {
   "cell_type": "markdown",
   "id": "e87454a8",
   "metadata": {},
   "source": [
    "### Pre_processing the User's Input"
   ]
  },
  {
   "cell_type": "code",
   "execution_count": 30,
   "id": "fb778f13",
   "metadata": {},
   "outputs": [],
   "source": [
    "def clean_text(text):\n",
    "    tokens = nltk.word_tokenize(text)\n",
    "    tokens = [lemmatizer.lemmatize(word) for word in tokens]\n",
    "    return tokens\n",
    "\n",
    "def bag_of_words(text, vocab):\n",
    "    tokens = clean_text(text)\n",
    "    bow = [0] * len(vocab)\n",
    "    for w in tokens:\n",
    "        for idx, word in enumerate(vocab):\n",
    "            if word == w:\n",
    "                bow[idx] = 1\n",
    "    return np.array(bow)\n",
    "\n",
    "def pred_class(text, vocab, labels):\n",
    "    bow = bag_of_words(text, vocab)\n",
    "    result = model.predict(np.array([bow]))[0]\n",
    "    thresh = 0.5\n",
    "    y_pred = [[indx, res] for indx, res in enumerate(result) if res > thresh]\n",
    "    y_pred.sort(key = lambda x: x[1], reverse = True) #Sorting by values of probability in decreasing order\n",
    "    return_list = []\n",
    "    for r in y_pred:\n",
    "        return_list.append(labels[r[0]]) #Contains lables (tags) for highest probability\n",
    "    return return_list\n",
    "\n",
    "def get_response(intents_list, intents_json):\n",
    "    if len(intents_list) == 0:\n",
    "        result = \"Sorry! I don't understand.\"\n",
    "    else:\n",
    "        tag = intents_list[0]\n",
    "        list_of_intents = intents_json[\"intents\"]\n",
    "        for i in list_of_intents:\n",
    "            if i[\"tag\"] == tag:\n",
    "                result = random.choice(i[\"responses\"])\n",
    "                break\n",
    "    return result"
   ]
  },
  {
   "cell_type": "markdown",
   "id": "ea16efdf",
   "metadata": {},
   "source": [
    "### Testing our chatbot"
   ]
  },
  {
   "cell_type": "code",
   "execution_count": 31,
   "id": "f0b56cd9",
   "metadata": {},
   "outputs": [
    {
     "name": "stdout",
     "output_type": "stream",
     "text": [
      "Press 0 if you don't want to chat with ChatBot\n",
      "hi\n",
      "Hello, thanks for visiting\n",
      "what is your name\n",
      "Our hours are 9am-9pm every day\n",
      "tell me more\n",
      "Good to see you again\n",
      "what's up bro\n",
      "Happy to help!\n",
      "bye\n",
      "Have a nice day\n",
      "0\n"
     ]
    }
   ],
   "source": [
    "print(\"Press 0 if you don't want to chat with ChatBot\")\n",
    "while True:\n",
    "    message = input(\"\")\n",
    "    if message == \"0\":\n",
    "        break\n",
    "    intents = pred_class(message, words, classes)\n",
    "    result = get_response(intents, data)\n",
    "    print(result)"
   ]
  }
 ],
 "metadata": {
  "kernelspec": {
   "display_name": "Python 3 (ipykernel)",
   "language": "python",
   "name": "python3"
  },
  "language_info": {
   "codemirror_mode": {
    "name": "ipython",
    "version": 3
   },
   "file_extension": ".py",
   "mimetype": "text/x-python",
   "name": "python",
   "nbconvert_exporter": "python",
   "pygments_lexer": "ipython3",
   "version": "3.9.7"
  }
 },
 "nbformat": 4,
 "nbformat_minor": 5
}
